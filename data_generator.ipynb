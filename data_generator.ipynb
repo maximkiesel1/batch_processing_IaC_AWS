{
 "cells": [
  {
   "cell_type": "code",
   "execution_count": 6,
   "id": "80bab13c",
   "metadata": {},
   "outputs": [],
   "source": [
    "import pandas as pd\n",
    "from datetime import datetime, timedelta\n",
    "import random\n",
    "\n",
    "# Number of records\n",
    "num_records = 1000000\n",
    "\n",
    "# Data dictionary for CSV creation\n",
    "data = {\n",
    "    'start_time': [],\n",
    "    'end_time': [],\n",
    "    'value': [],\n",
    "    'measurements': []\n",
    "}\n",
    "\n",
    "# Start time\n",
    "start_time = datetime.now()\n",
    "\n",
    "for i in range(num_records):\n",
    "    # Random time delta between 0 and 100 seconds\n",
    "    time_delta = timedelta(seconds=random.randint(0, 100))\n",
    "\n",
    "    # Calculate end time\n",
    "    end_time = start_time + time_delta\n",
    "\n",
    "    # Random measurement between -10 and 50\n",
    "    value = random.randint(-10, 50)\n",
    "\n",
    "    # Insert data into the DataFrame\n",
    "    data['start_time'].append(start_time)\n",
    "    data['end_time'].append(end_time)\n",
    "    data['value'].append(value)\n",
    "    data['measurements'].append(abs(time_delta.total_seconds()))\n",
    "\n",
    "    # Set new start time for the next record\n",
    "    start_time = end_time\n",
    "\n",
    "# Create DataFrame\n",
    "df = pd.DataFrame(data)\n",
    "\n",
    "# Export DataFrame to a CSV file\n",
    "df.to_csv('measurement_data.csv', index=False)\n"
   ]
  },
  {
   "cell_type": "code",
   "execution_count": null,
   "id": "69c5271b",
   "metadata": {},
   "outputs": [],
   "source": []
  }
 ],
 "metadata": {
  "kernelspec": {
   "display_name": "Python 3 (ipykernel)",
   "language": "python",
   "name": "python3"
  },
  "language_info": {
   "codemirror_mode": {
    "name": "ipython",
    "version": 3
   },
   "file_extension": ".py",
   "mimetype": "text/x-python",
   "name": "python",
   "nbconvert_exporter": "python",
   "pygments_lexer": "ipython3",
   "version": "3.10.9"
  }
 },
 "nbformat": 4,
 "nbformat_minor": 5
}
