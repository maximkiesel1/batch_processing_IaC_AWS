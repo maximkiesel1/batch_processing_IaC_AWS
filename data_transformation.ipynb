{
 "cells": [
  {
   "cell_type": "code",
   "execution_count": 7,
   "id": "d8eb60af",
   "metadata": {},
   "outputs": [],
   "source": [
    "import pandas as pd"
   ]
  },
  {
   "cell_type": "code",
   "execution_count": 10,
   "id": "02d15f73",
   "metadata": {},
   "outputs": [],
   "source": [
    "df = pd.read_csv('/Users/maximkiesel/batch_processing_IaC_AWS/measurement_data.csv')"
   ]
  },
  {
   "cell_type": "code",
   "execution_count": 11,
   "id": "c30150d2",
   "metadata": {},
   "outputs": [
    {
     "data": {
      "text/html": [
       "<div>\n",
       "<style scoped>\n",
       "    .dataframe tbody tr th:only-of-type {\n",
       "        vertical-align: middle;\n",
       "    }\n",
       "\n",
       "    .dataframe tbody tr th {\n",
       "        vertical-align: top;\n",
       "    }\n",
       "\n",
       "    .dataframe thead th {\n",
       "        text-align: right;\n",
       "    }\n",
       "</style>\n",
       "<table border=\"1\" class=\"dataframe\">\n",
       "  <thead>\n",
       "    <tr style=\"text-align: right;\">\n",
       "      <th></th>\n",
       "      <th>start_time</th>\n",
       "      <th>end_time</th>\n",
       "      <th>value</th>\n",
       "      <th>measurements</th>\n",
       "    </tr>\n",
       "  </thead>\n",
       "  <tbody>\n",
       "    <tr>\n",
       "      <th>0</th>\n",
       "      <td>2023-06-20 22:08:35.508546</td>\n",
       "      <td>2023-06-20 22:09:53.508546</td>\n",
       "      <td>33</td>\n",
       "      <td>78.0</td>\n",
       "    </tr>\n",
       "    <tr>\n",
       "      <th>1</th>\n",
       "      <td>2023-06-20 22:09:53.508546</td>\n",
       "      <td>2023-06-20 22:10:55.508546</td>\n",
       "      <td>40</td>\n",
       "      <td>62.0</td>\n",
       "    </tr>\n",
       "    <tr>\n",
       "      <th>2</th>\n",
       "      <td>2023-06-20 22:10:55.508546</td>\n",
       "      <td>2023-06-20 22:12:08.508546</td>\n",
       "      <td>12</td>\n",
       "      <td>73.0</td>\n",
       "    </tr>\n",
       "    <tr>\n",
       "      <th>3</th>\n",
       "      <td>2023-06-20 22:12:08.508546</td>\n",
       "      <td>2023-06-20 22:12:53.508546</td>\n",
       "      <td>-6</td>\n",
       "      <td>45.0</td>\n",
       "    </tr>\n",
       "    <tr>\n",
       "      <th>4</th>\n",
       "      <td>2023-06-20 22:12:53.508546</td>\n",
       "      <td>2023-06-20 22:12:55.508546</td>\n",
       "      <td>31</td>\n",
       "      <td>2.0</td>\n",
       "    </tr>\n",
       "  </tbody>\n",
       "</table>\n",
       "</div>"
      ],
      "text/plain": [
       "                   start_time                    end_time  value  measurements\n",
       "0  2023-06-20 22:08:35.508546  2023-06-20 22:09:53.508546     33          78.0\n",
       "1  2023-06-20 22:09:53.508546  2023-06-20 22:10:55.508546     40          62.0\n",
       "2  2023-06-20 22:10:55.508546  2023-06-20 22:12:08.508546     12          73.0\n",
       "3  2023-06-20 22:12:08.508546  2023-06-20 22:12:53.508546     -6          45.0\n",
       "4  2023-06-20 22:12:53.508546  2023-06-20 22:12:55.508546     31           2.0"
      ]
     },
     "execution_count": 11,
     "metadata": {},
     "output_type": "execute_result"
    }
   ],
   "source": [
    "df.head()"
   ]
  },
  {
   "cell_type": "code",
   "execution_count": null,
   "id": "e123d544",
   "metadata": {},
   "outputs": [],
   "source": [
    "skip_row = 1\n",
    " \n",
    "# iterate through all rows of the df\n",
    "for index, row in df.iterrows():\n",
    " \n",
    "    if skip_row > 1:\n",
    " \n",
    "        skip_row = skip_row -1\n",
    " \n",
    "        continue\n",
    "   \n",
    "    # check if there are more then 1 measurements\n",
    "    if df.loc[index, 'samples'] > 1:\n",
    "       \n",
    "        samples_count = df.loc[index, 'samples']\n",
    "       \n",
    "        df.loc[index, 'samples'] = 1\n",
    "       \n",
    "        skip_row = samples_count\n",
    "       \n",
    "        # create new rows based on the amount of the measurements\n",
    "        for i in range(samples_count-1):\n",
    " \n",
    "            # create new copy line\n",
    "            new_line = df.loc[index+i].copy()\n",
    "           \n",
    "            # insert the new line after the current row\n",
    "            df = pd.concat([df.iloc[:index+i], pd.DataFrame([new_line]), df.iloc[index+i:]]).reset_index(drop=True)\n",
    " \n",
    "            # aktualisiere den Index der neu eingefügten Zeile\n",
    "            new_index = index + i + 1\n",
    "           \n",
    "            df.loc[new_index, 'timeseries'] = df.loc[new_index-1, 'timeseries'] + pd.Timedelta(seconds=1)"
   ]
  }
 ],
 "metadata": {
  "kernelspec": {
   "display_name": "Python 3 (ipykernel)",
   "language": "python",
   "name": "python3"
  },
  "language_info": {
   "codemirror_mode": {
    "name": "ipython",
    "version": 3
   },
   "file_extension": ".py",
   "mimetype": "text/x-python",
   "name": "python",
   "nbconvert_exporter": "python",
   "pygments_lexer": "ipython3",
   "version": "3.10.9"
  }
 },
 "nbformat": 4,
 "nbformat_minor": 5
}
